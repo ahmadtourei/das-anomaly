{
 "cells": [
  {
   "cell_type": "code",
   "execution_count": null,
   "id": "347ce8e2",
   "metadata": {},
   "outputs": [],
   "source": [
    "tp = # anomaly\n",
    "tn = # background noise\n",
    "fp = # detected as anomaly but it is background noise\n",
    "fn = # background noise but is an anomaly\n",
    "precision = tp / (tp + fp)\n",
    "recall = tp / (tp + fn)\n",
    "f1_score = 2 * precision * recall / (precision +  recall) "
   ]
  },
  {
   "cell_type": "code",
   "execution_count": null,
   "id": "6b71030c",
   "metadata": {},
   "outputs": [],
   "source": [
    "events = \n",
    "seismic_accuracy = events / tp"
   ]
  },
  {
   "cell_type": "markdown",
   "id": "1a2abb60",
   "metadata": {},
   "source": []
  }
 ],
 "metadata": {
  "language_info": {
   "name": "python"
  }
 },
 "nbformat": 4,
 "nbformat_minor": 5
}
